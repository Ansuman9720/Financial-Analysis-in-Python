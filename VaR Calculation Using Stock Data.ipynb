{
 "cells": [
  {
   "cell_type": "markdown",
   "id": "b3c6d2e3",
   "metadata": {},
   "source": [
    "## Important Libraries"
   ]
  },
  {
   "cell_type": "code",
   "execution_count": 1,
   "id": "9f9b2a71",
   "metadata": {},
   "outputs": [],
   "source": [
    "import numpy as np\n",
    "import pandas as pd\n",
    "import datetime as dt\n",
    "import yfinance as yf\n",
    "import matplotlib.pyplot as plt\n",
    "from scipy.stats import norm\n",
    "import pytz"
   ]
  },
  {
   "cell_type": "markdown",
   "id": "15ee9442",
   "metadata": {},
   "source": [
    "## Set time to a certain number of years"
   ]
  },
  {
   "cell_type": "code",
   "execution_count": 2,
   "id": "7d8b837a",
   "metadata": {},
   "outputs": [],
   "source": [
    "years = 5\n",
    "endDate = dt.datetime.now()\n",
    "startDate = endDate - dt.timedelta(days = 365*years)"
   ]
  },
  {
   "cell_type": "markdown",
   "id": "8672211c",
   "metadata": {},
   "source": [
    "# Create a list of tickers"
   ]
  },
  {
   "cell_type": "code",
   "execution_count": 3,
   "id": "5d0008d1",
   "metadata": {},
   "outputs": [],
   "source": [
    "tickers = [\"M&M.NS\",\"HDFCBANK.NS\", \"ITC.NS\",\"SUNPHARMA.NS\",\"TATASTEEL.NS\",\n",
    "             \"INFY.NS\",\"DLF.NS\"]"
   ]
  },
  {
   "cell_type": "markdown",
   "id": "754f2eff",
   "metadata": {},
   "source": [
    "## Daily Adjusted close Price"
   ]
  },
  {
   "cell_type": "code",
   "execution_count": 4,
   "id": "f167b689",
   "metadata": {},
   "outputs": [
    {
     "name": "stdout",
     "output_type": "stream",
     "text": [
      "[*********************100%%**********************]  1 of 1 completed\n",
      "[*********************100%%**********************]  1 of 1 completed\n",
      "[*********************100%%**********************]  1 of 1 completed\n",
      "[*********************100%%**********************]  1 of 1 completed\n",
      "[*********************100%%**********************]  1 of 1 completed\n",
      "[*********************100%%**********************]  1 of 1 completed\n",
      "[*********************100%%**********************]  1 of 1 completed\n",
      "                 M&M.NS  HDFCBANK.NS      ITC.NS  SUNPHARMA.NS  TATASTEEL.NS  \\\n",
      "Date                                                                           \n",
      "2019-01-04   690.260986  1021.594788  232.847397    413.032928     41.629742   \n",
      "2019-01-07   694.018677  1023.138672  233.427505    410.176514     41.446198   \n",
      "2019-01-08   688.168213  1014.623047  235.582367    426.600739     41.945602   \n",
      "2019-01-09   690.926880  1021.281189  240.679398    427.267212     40.908371   \n",
      "2019-01-10   697.490906  1017.276733  240.016357    423.315918     41.010818   \n",
      "...                 ...          ...         ...           ...           ...   \n",
      "2023-12-27  1687.949951  1703.300049  457.100006   1252.449951    137.199997   \n",
      "2023-12-28  1734.449951  1705.250000  464.100006   1262.150024    138.149994   \n",
      "2023-12-29  1729.400024  1709.250000  462.100006   1259.449951    139.600006   \n",
      "2024-01-01  1703.300049  1698.099976  468.049988   1260.250000    139.850006   \n",
      "2024-01-02  1656.199951  1699.099976  470.350006   1296.199951    139.600006   \n",
      "\n",
      "                INFY.NS      DLF.NS  \n",
      "Date                                 \n",
      "2019-01-04   576.554260  167.667572  \n",
      "2019-01-07   585.843018  172.118927  \n",
      "2019-01-08   584.403748  173.746292  \n",
      "2019-01-09   589.680603  174.320679  \n",
      "2019-01-10   592.820435  175.708710  \n",
      "...                 ...         ...  \n",
      "2023-12-27  1567.099976  720.450012  \n",
      "2023-12-28  1562.650024  728.650024  \n",
      "2023-12-29  1542.900024  726.400024  \n",
      "2024-01-01  1551.349976  723.599976  \n",
      "2024-01-02  1534.400024  713.849976  \n",
      "\n",
      "[1234 rows x 7 columns]\n"
     ]
    }
   ],
   "source": [
    "adj_close_df = pd.DataFrame()\n",
    "\n",
    "for ticker in tickers:\n",
    "    data = yf.download(ticker, start = startDate, end = endDate)\n",
    "    adj_close_df[ticker] = data[\"Adj Close\"]\n",
    "print(adj_close_df)"
   ]
  },
  {
   "cell_type": "markdown",
   "id": "a0a5dc72",
   "metadata": {},
   "source": [
    "## Calculate the daily log returns"
   ]
  },
  {
   "cell_type": "code",
   "execution_count": 5,
   "id": "feb2eb76",
   "metadata": {},
   "outputs": [
    {
     "name": "stdout",
     "output_type": "stream",
     "text": [
      "              M&M.NS  HDFCBANK.NS    ITC.NS  SUNPHARMA.NS  TATASTEEL.NS  \\\n",
      "Date                                                                      \n",
      "2019-01-07  0.005429     0.001510  0.002488     -0.006940     -0.004419   \n",
      "2019-01-08 -0.008466    -0.008358  0.009189      0.039261      0.011977   \n",
      "2019-01-09  0.004001     0.006541  0.021405      0.001561     -0.025039   \n",
      "2019-01-10  0.009455    -0.003929 -0.002759     -0.009291      0.002501   \n",
      "2019-01-11 -0.007255     0.001611  0.019661     -0.000450     -0.012990   \n",
      "...              ...          ...       ...           ...           ...   \n",
      "2023-12-27  0.015343     0.012317  0.001423      0.003960      0.014685   \n",
      "2023-12-28  0.027176     0.001144  0.015198      0.007715      0.006900   \n",
      "2023-12-29 -0.002916     0.002343 -0.004319     -0.002142      0.010441   \n",
      "2024-01-01 -0.015207    -0.006545  0.012794      0.000635      0.001789   \n",
      "2024-01-02 -0.028042     0.000589  0.004902      0.028127     -0.001789   \n",
      "\n",
      "             INFY.NS    DLF.NS  \n",
      "Date                            \n",
      "2019-01-07  0.015982  0.026202  \n",
      "2019-01-08 -0.002460  0.009410  \n",
      "2019-01-09  0.008989  0.003300  \n",
      "2019-01-10  0.005311  0.007931  \n",
      "2019-01-11  0.005575 -0.007657  \n",
      "...              ...       ...  \n",
      "2023-12-27  0.014883  0.007803  \n",
      "2023-12-28 -0.002844  0.011318  \n",
      "2023-12-29 -0.012719 -0.003093  \n",
      "2024-01-01  0.005462 -0.003862  \n",
      "2024-01-02 -0.010986 -0.013566  \n",
      "\n",
      "[1233 rows x 7 columns]\n"
     ]
    }
   ],
   "source": [
    "log_returns = np.log(adj_close_df / adj_close_df.shift(1))\n",
    "log_returns = log_returns.dropna()\n",
    "\n",
    "print(log_returns)"
   ]
  },
  {
   "cell_type": "markdown",
   "id": "317e5f99",
   "metadata": {},
   "source": [
    "## Create an equally weighted portfolio"
   ]
  },
  {
   "cell_type": "code",
   "execution_count": 6,
   "id": "48286f08",
   "metadata": {},
   "outputs": [
    {
     "name": "stdout",
     "output_type": "stream",
     "text": [
      "[0.14285714 0.14285714 0.14285714 0.14285714 0.14285714 0.14285714\n",
      " 0.14285714]\n"
     ]
    }
   ],
   "source": [
    "portfolio_value = 1000000\n",
    "weights = np.array([1/len(tickers)]*len(tickers))\n",
    "print(weights)"
   ]
  },
  {
   "cell_type": "markdown",
   "id": "203e82c3",
   "metadata": {},
   "source": [
    "## Calculate the historical portfolio returns"
   ]
  },
  {
   "cell_type": "code",
   "execution_count": 7,
   "id": "95ed8fe5",
   "metadata": {},
   "outputs": [
    {
     "name": "stdout",
     "output_type": "stream",
     "text": [
      "Date\n",
      "2019-01-07    0.005751\n",
      "2019-01-08    0.007222\n",
      "2019-01-09    0.002965\n",
      "2019-01-10    0.001317\n",
      "2019-01-11   -0.000215\n",
      "                ...   \n",
      "2023-12-27    0.010059\n",
      "2023-12-28    0.009515\n",
      "2023-12-29   -0.001772\n",
      "2024-01-01   -0.000705\n",
      "2024-01-02   -0.002966\n",
      "Length: 1233, dtype: float64\n"
     ]
    }
   ],
   "source": [
    "historical_returns = (log_returns*weights).sum(axis = 1)\n",
    "print(historical_returns)"
   ]
  },
  {
   "cell_type": "markdown",
   "id": "3faeb581",
   "metadata": {},
   "source": [
    "## Find the X- day historical return"
   ]
  },
  {
   "cell_type": "code",
   "execution_count": 8,
   "id": "ca85cf58",
   "metadata": {},
   "outputs": [],
   "source": [
    "days = 252\n",
    "historical_x_day_returns =  historical_returns.rolling( window = days).sum()"
   ]
  },
  {
   "cell_type": "markdown",
   "id": "e8617c8f",
   "metadata": {},
   "source": [
    "## Create a covariance matrix for all the securities"
   ]
  },
  {
   "cell_type": "code",
   "execution_count": 9,
   "id": "7dbb4c0d",
   "metadata": {},
   "outputs": [],
   "source": [
    "cov_matrix = log_returns.cov() * 252"
   ]
  },
  {
   "cell_type": "markdown",
   "id": "72d9ed3b",
   "metadata": {},
   "source": [
    "## Calculate portfolio Standard Deviation"
   ]
  },
  {
   "cell_type": "code",
   "execution_count": 10,
   "id": "7d3f7d32",
   "metadata": {},
   "outputs": [],
   "source": [
    "portfolio_std_dev = np.sqrt(weights.T @ cov_matrix @ weights)"
   ]
  },
  {
   "cell_type": "markdown",
   "id": "b6c1518a",
   "metadata": {},
   "source": [
    "## Set differnt confindence levels to visualize"
   ]
  },
  {
   "cell_type": "code",
   "execution_count": 11,
   "id": "4c8874f2",
   "metadata": {},
   "outputs": [],
   "source": [
    "confidence_levels = [0.9,0.95,0.99]"
   ]
  },
  {
   "cell_type": "markdown",
   "id": "9642b80c",
   "metadata": {},
   "source": [
    "## Calculate VaR at differnt confindence levels"
   ]
  },
  {
   "cell_type": "code",
   "execution_count": 12,
   "id": "3e3548f8",
   "metadata": {},
   "outputs": [],
   "source": [
    "VaRs = []\n",
    "\n",
    "for cl in confidence_levels:\n",
    "    VaR = portfolio_value * (norm.ppf(1 - cl) * portfolio_std_dev * np.sqrt(days / 252) - historical_returns.mean() * days)\n",
    "    VaRs.append(VaR)"
   ]
  },
  {
   "cell_type": "markdown",
   "id": "421e658a",
   "metadata": {},
   "source": [
    "## Print out VaR Results"
   ]
  },
  {
   "cell_type": "code",
   "execution_count": 13,
   "id": "3183591a",
   "metadata": {},
   "outputs": [
    {
     "name": "stdout",
     "output_type": "stream",
     "text": [
      "Confidence Level     Value at Risk       \n",
      "----------------------------------------\n",
      "    90%:          $-475,985.74\n",
      "    95%:          $-554,073.34\n",
      "    99%:          $-700,552.70\n"
     ]
    }
   ],
   "source": [
    "print(f'{\"Confidence Level\":<20} {\"Value at Risk\":<20}')\n",
    "print('-' * 40)\n",
    "\n",
    "for cl, VaR in zip(confidence_levels, VaRs):\n",
    "    print(f'{cl * 100:>6.0f}%: {\"\":<8} ${VaR:>10,.2f}')"
   ]
  },
  {
   "cell_type": "code",
   "execution_count": 14,
   "id": "89cc5918",
   "metadata": {},
   "outputs": [
    {
     "data": {
      "image/png": "[encoded data removed]",
      "text/plain": [
       "<Figure size 640x480 with 1 Axes>"
      ]
     },
     "metadata": {},
     "output_type": "display_data"
    }
   ],
   "source": [
    "# Convert returns to dollar values for the histogram\n",
    "historical_x_day_returns_rupees = historical_x_day_returns * portfolio_value\n",
    "\n",
    "# Plot the histogram\n",
    "plt.hist(historical_x_day_returns_rupees, bins=50, density=True, alpha=0.5, label=f'{days}-Day Returns')\n",
    "\n",
    "# Add vertical lines representing VaR at each confidence level\n",
    "for cl, VaR in zip(confidence_levels, VaRs):\n",
    "    plt.axvline(x=-VaR, linestyle='--', color='r', label='VaR at {}% Confidence'.format(int(cl * 100)))\n",
    "\n",
    "plt.xlabel(f'{days}-Day Portfolio Return (₹)')\n",
    "plt.ylabel('Frequency')\n",
    "plt.title(f'Distribution of Portfolio {days}-Day Returns and Parametric VaR Estimates')\n",
    "plt.legend()\n",
    "plt.show()"
   ]
  },
  {
   "cell_type": "code",
   "execution_count": null,
   "id": "4ab254be",
   "metadata": {},
   "outputs": [],
   "source": []
  }
 ],
 "metadata": {
  "kernelspec": {
   "display_name": "Python 3 (ipykernel)",
   "language": "python",
   "name": "python3"
  },
  "language_info": {
   "codemirror_mode": {
    "name": "ipython",
    "version": 3
   },
   "file_extension": ".py",
   "mimetype": "text/x-python",
   "name": "python",
   "nbconvert_exporter": "python",
   "pygments_lexer": "ipython3",
   "version": "3.11.5"
  }
 },
 "nbformat": 4,
 "nbformat_minor": 5
}
